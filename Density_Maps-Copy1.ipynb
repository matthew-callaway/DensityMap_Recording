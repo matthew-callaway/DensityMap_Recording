{
 "cells": [
  {
   "cell_type": "markdown",
   "metadata": {},
   "source": [
    "### Density Maps for light curves"
   ]
  },
  {
   "cell_type": "code",
   "execution_count": 8,
   "metadata": {},
   "outputs": [],
   "source": [
    "import pandas as pd\n",
    "import numpy as np\n",
    "import zarr\n",
    "from utils import *\n",
    "pd.set_option('display.max_columns', 999)\n",
    "\n",
    "from matplotlib import pyplot as plt\n",
    "%matplotlib inline"
   ]
  },
  {
   "cell_type": "code",
   "execution_count": 7,
   "metadata": {},
   "outputs": [
    {
     "ename": "FileNotFoundError",
     "evalue": "[Errno 2] No such file or directory: '/home/idies/workspace/Temporary/ywx649999311/LSST_AGN/Class_Training/Data/LCs.zarr.zip'",
     "output_type": "error",
     "traceback": [
      "\u001b[0;31m\u001b[0m",
      "\u001b[0;31mFileNotFoundError\u001b[0mTraceback (most recent call last)",
      "\u001b[0;32m<ipython-input-7-1b3f338d936e>\u001b[0m in \u001b[0;36m<module>\u001b[0;34m\u001b[0m\n\u001b[1;32m      1\u001b[0m \u001b[0;31m# Run this cell if on SciServer\u001b[0m\u001b[0;34m\u001b[0m\u001b[0;34m\u001b[0m\u001b[0;34m\u001b[0m\u001b[0m\n\u001b[0;32m----> 2\u001b[0;31m \u001b[0minit\u001b[0m\u001b[0;34m(\u001b[0m\u001b[0;34m)\u001b[0m\u001b[0;34m\u001b[0m\u001b[0;34m\u001b[0m\u001b[0m\n\u001b[0m",
      "\u001b[0;32m~/workspace/Storage/mattcallaway/persistent/LSST_training/Script_NBs/utils.py\u001b[0m in \u001b[0;36minit\u001b[0;34m(data_dir)\u001b[0m\n\u001b[1;32m     33\u001b[0m \u001b[0;34m\u001b[0m\u001b[0m\n\u001b[1;32m     34\u001b[0m     \u001b[0mLC_path\u001b[0m \u001b[0;34m=\u001b[0m \u001b[0mos\u001b[0m\u001b[0;34m.\u001b[0m\u001b[0mpath\u001b[0m\u001b[0;34m.\u001b[0m\u001b[0mjoin\u001b[0m\u001b[0;34m(\u001b[0m\u001b[0mdata_dir\u001b[0m\u001b[0;34m,\u001b[0m \u001b[0;34m\"LCs.zarr.zip\"\u001b[0m\u001b[0;34m)\u001b[0m\u001b[0;34m\u001b[0m\u001b[0;34m\u001b[0m\u001b[0m\n\u001b[0;32m---> 35\u001b[0;31m     \u001b[0mLC_zarr\u001b[0m \u001b[0;34m=\u001b[0m \u001b[0mzarr\u001b[0m\u001b[0;34m.\u001b[0m\u001b[0mload\u001b[0m\u001b[0;34m(\u001b[0m\u001b[0mLC_path\u001b[0m\u001b[0;34m)\u001b[0m\u001b[0;34m\u001b[0m\u001b[0;34m\u001b[0m\u001b[0m\n\u001b[0m\u001b[1;32m     36\u001b[0m     \u001b[0mcat_path\u001b[0m \u001b[0;34m=\u001b[0m \u001b[0mos\u001b[0m\u001b[0;34m.\u001b[0m\u001b[0mpath\u001b[0m\u001b[0;34m.\u001b[0m\u001b[0mjoin\u001b[0m\u001b[0;34m(\u001b[0m\u001b[0mdata_dir\u001b[0m\u001b[0;34m,\u001b[0m \u001b[0;34m\"AllMasters.parquet\"\u001b[0m\u001b[0;34m)\u001b[0m\u001b[0;34m\u001b[0m\u001b[0;34m\u001b[0m\u001b[0m\n\u001b[1;32m     37\u001b[0m     \u001b[0mmeta_data\u001b[0m \u001b[0;34m=\u001b[0m \u001b[0myaml\u001b[0m\u001b[0;34m.\u001b[0m\u001b[0msafe_load\u001b[0m\u001b[0;34m(\u001b[0m\u001b[0mopen\u001b[0m\u001b[0;34m(\u001b[0m\u001b[0mos\u001b[0m\u001b[0;34m.\u001b[0m\u001b[0mpath\u001b[0m\u001b[0;34m.\u001b[0m\u001b[0mjoin\u001b[0m\u001b[0;34m(\u001b[0m\u001b[0mdata_dir\u001b[0m\u001b[0;34m,\u001b[0m \u001b[0;34m\"meta.yaml\"\u001b[0m\u001b[0;34m)\u001b[0m\u001b[0;34m)\u001b[0m\u001b[0;34m)\u001b[0m\u001b[0;34m\u001b[0m\u001b[0;34m\u001b[0m\u001b[0m\n",
      "\u001b[0;32m~/miniconda3/envs/lsst_train/lib/python3.7/site-packages/zarr/convenience.py\u001b[0m in \u001b[0;36mload\u001b[0;34m(store)\u001b[0m\n\u001b[1;32m    356\u001b[0m     \"\"\"\n\u001b[1;32m    357\u001b[0m     \u001b[0;31m# handle polymorphic store arg\u001b[0m\u001b[0;34m\u001b[0m\u001b[0;34m\u001b[0m\u001b[0;34m\u001b[0m\u001b[0m\n\u001b[0;32m--> 358\u001b[0;31m     \u001b[0mstore\u001b[0m \u001b[0;34m=\u001b[0m \u001b[0mnormalize_store_arg\u001b[0m\u001b[0;34m(\u001b[0m\u001b[0mstore\u001b[0m\u001b[0;34m)\u001b[0m\u001b[0;34m\u001b[0m\u001b[0;34m\u001b[0m\u001b[0m\n\u001b[0m\u001b[1;32m    359\u001b[0m     \u001b[0;32mif\u001b[0m \u001b[0mcontains_array\u001b[0m\u001b[0;34m(\u001b[0m\u001b[0mstore\u001b[0m\u001b[0;34m,\u001b[0m \u001b[0mpath\u001b[0m\u001b[0;34m=\u001b[0m\u001b[0;32mNone\u001b[0m\u001b[0;34m)\u001b[0m\u001b[0;34m:\u001b[0m\u001b[0;34m\u001b[0m\u001b[0;34m\u001b[0m\u001b[0m\n\u001b[1;32m    360\u001b[0m         \u001b[0;32mreturn\u001b[0m \u001b[0mArray\u001b[0m\u001b[0;34m(\u001b[0m\u001b[0mstore\u001b[0m\u001b[0;34m=\u001b[0m\u001b[0mstore\u001b[0m\u001b[0;34m,\u001b[0m \u001b[0mpath\u001b[0m\u001b[0;34m=\u001b[0m\u001b[0;32mNone\u001b[0m\u001b[0;34m)\u001b[0m\u001b[0;34m[\u001b[0m\u001b[0;34m...\u001b[0m\u001b[0;34m]\u001b[0m\u001b[0;34m\u001b[0m\u001b[0;34m\u001b[0m\u001b[0m\n",
      "\u001b[0;32m~/miniconda3/envs/lsst_train/lib/python3.7/site-packages/zarr/creation.py\u001b[0m in \u001b[0;36mnormalize_store_arg\u001b[0;34m(store, clobber, default)\u001b[0m\n\u001b[1;32m    134\u001b[0m         \u001b[0;32mif\u001b[0m \u001b[0mstore\u001b[0m\u001b[0;34m.\u001b[0m\u001b[0mendswith\u001b[0m\u001b[0;34m(\u001b[0m\u001b[0;34m'.zip'\u001b[0m\u001b[0;34m)\u001b[0m\u001b[0;34m:\u001b[0m\u001b[0;34m\u001b[0m\u001b[0;34m\u001b[0m\u001b[0m\n\u001b[1;32m    135\u001b[0m             \u001b[0mmode\u001b[0m \u001b[0;34m=\u001b[0m \u001b[0;34m'w'\u001b[0m \u001b[0;32mif\u001b[0m \u001b[0mclobber\u001b[0m \u001b[0;32melse\u001b[0m \u001b[0;34m'r'\u001b[0m\u001b[0;34m\u001b[0m\u001b[0;34m\u001b[0m\u001b[0m\n\u001b[0;32m--> 136\u001b[0;31m             \u001b[0;32mreturn\u001b[0m \u001b[0mZipStore\u001b[0m\u001b[0;34m(\u001b[0m\u001b[0mstore\u001b[0m\u001b[0;34m,\u001b[0m \u001b[0mmode\u001b[0m\u001b[0;34m=\u001b[0m\u001b[0mmode\u001b[0m\u001b[0;34m)\u001b[0m\u001b[0;34m\u001b[0m\u001b[0;34m\u001b[0m\u001b[0m\n\u001b[0m\u001b[1;32m    137\u001b[0m         \u001b[0;32melif\u001b[0m \u001b[0mstore\u001b[0m\u001b[0;34m.\u001b[0m\u001b[0mendswith\u001b[0m\u001b[0;34m(\u001b[0m\u001b[0;34m'.n5'\u001b[0m\u001b[0;34m)\u001b[0m\u001b[0;34m:\u001b[0m\u001b[0;34m\u001b[0m\u001b[0;34m\u001b[0m\u001b[0m\n\u001b[1;32m    138\u001b[0m             \u001b[0;32mreturn\u001b[0m \u001b[0mN5Store\u001b[0m\u001b[0;34m(\u001b[0m\u001b[0mstore\u001b[0m\u001b[0;34m)\u001b[0m\u001b[0;34m\u001b[0m\u001b[0;34m\u001b[0m\u001b[0m\n",
      "\u001b[0;32m~/miniconda3/envs/lsst_train/lib/python3.7/site-packages/zarr/storage.py\u001b[0m in \u001b[0;36m__init__\u001b[0;34m(self, path, compression, allowZip64, mode)\u001b[0m\n\u001b[1;32m   1208\u001b[0m         \u001b[0;31m# open zip file\u001b[0m\u001b[0;34m\u001b[0m\u001b[0;34m\u001b[0m\u001b[0;34m\u001b[0m\u001b[0m\n\u001b[1;32m   1209\u001b[0m         self.zf = zipfile.ZipFile(path, mode=mode, compression=compression,\n\u001b[0;32m-> 1210\u001b[0;31m                                   allowZip64=allowZip64)\n\u001b[0m\u001b[1;32m   1211\u001b[0m \u001b[0;34m\u001b[0m\u001b[0m\n\u001b[1;32m   1212\u001b[0m     \u001b[0;32mdef\u001b[0m \u001b[0m__getstate__\u001b[0m\u001b[0;34m(\u001b[0m\u001b[0mself\u001b[0m\u001b[0;34m)\u001b[0m\u001b[0;34m:\u001b[0m\u001b[0;34m\u001b[0m\u001b[0;34m\u001b[0m\u001b[0m\n",
      "\u001b[0;32m~/miniconda3/envs/lsst_train/lib/python3.7/zipfile.py\u001b[0m in \u001b[0;36m__init__\u001b[0;34m(self, file, mode, compression, allowZip64, compresslevel)\u001b[0m\n\u001b[1;32m   1238\u001b[0m             \u001b[0;32mwhile\u001b[0m \u001b[0;32mTrue\u001b[0m\u001b[0;34m:\u001b[0m\u001b[0;34m\u001b[0m\u001b[0;34m\u001b[0m\u001b[0m\n\u001b[1;32m   1239\u001b[0m                 \u001b[0;32mtry\u001b[0m\u001b[0;34m:\u001b[0m\u001b[0;34m\u001b[0m\u001b[0;34m\u001b[0m\u001b[0m\n\u001b[0;32m-> 1240\u001b[0;31m                     \u001b[0mself\u001b[0m\u001b[0;34m.\u001b[0m\u001b[0mfp\u001b[0m \u001b[0;34m=\u001b[0m \u001b[0mio\u001b[0m\u001b[0;34m.\u001b[0m\u001b[0mopen\u001b[0m\u001b[0;34m(\u001b[0m\u001b[0mfile\u001b[0m\u001b[0;34m,\u001b[0m \u001b[0mfilemode\u001b[0m\u001b[0;34m)\u001b[0m\u001b[0;34m\u001b[0m\u001b[0;34m\u001b[0m\u001b[0m\n\u001b[0m\u001b[1;32m   1241\u001b[0m                 \u001b[0;32mexcept\u001b[0m \u001b[0mOSError\u001b[0m\u001b[0;34m:\u001b[0m\u001b[0;34m\u001b[0m\u001b[0;34m\u001b[0m\u001b[0m\n\u001b[1;32m   1242\u001b[0m                     \u001b[0;32mif\u001b[0m \u001b[0mfilemode\u001b[0m \u001b[0;32min\u001b[0m \u001b[0mmodeDict\u001b[0m\u001b[0;34m:\u001b[0m\u001b[0;34m\u001b[0m\u001b[0;34m\u001b[0m\u001b[0m\n",
      "\u001b[0;31mFileNotFoundError\u001b[0m: [Errno 2] No such file or directory: '/home/idies/workspace/Temporary/ywx649999311/LSST_AGN/Class_Training/Data/LCs.zarr.zip'"
     ]
    }
   ],
   "source": [
    "# Run this cell if on SciServer\n",
    "init()"
   ]
  },
  {
   "cell_type": "markdown",
   "metadata": {},
   "source": [
    "#### Define Function to Make Density Maps"
   ]
  },
  {
   "cell_type": "code",
   "execution_count": 9,
   "metadata": {},
   "outputs": [],
   "source": [
    "def dmdt(x, y):\n",
    "    '''Return dm dt pairs, with dt in the log10 space\n",
    "    \n",
    "    Args:\n",
    "        x(array): An array of time points.\n",
    "        y(array): The magnitude at each time point in x.\n",
    "    \n",
    "    Returns:\n",
    "        log_dts(array): An array of delta_t between any pair of observations, in\n",
    "            the log10 scale.\n",
    "        dms(array): An array of delta_mag corresponding to each delta_t in log_dts.\n",
    "        dt_amp(float): The largest value in log_dts.\n",
    "        dm_amp(float): The larges absolute value in dms. \n",
    "    '''\n",
    "    allDiffs = [] # time diff\n",
    "    allMagDiffs = [] # mag diff\n",
    "    times = x\n",
    "    mags = y\n",
    "\n",
    "    for i in np.arange(1,times.size,1):\n",
    "        allMagDiffs.append((mags - np.roll(mags, i))[i:])\n",
    "        allDiffs.append((times-np.roll(times,i))[i:])\n",
    "        log_dts = np.log10(np.concatenate(allDiffs))\n",
    "        dms = np.concatenate(allMagDiffs)\n",
    "    \n",
    "    dm_amp = np.abs(dms).max() # largest change in mag\n",
    "    dt_amp = log_dts.max() # largest time interveral\n",
    "    \n",
    "    return log_dts, dms, dt_amp, dm_amp\n",
    "\n",
    "\n",
    "def plotColorDmDt(log_dts, dms, dt_amp, dm_amp, x_bin_size=0.3, y_bin_size=0.002):\n",
    "    '''Plot the colored DmDt density plot without columne-wise normalization.\n",
    "    \n",
    "    Args:\n",
    "        x(array): An array of time points.\n",
    "        y(array): The magnitude at each time point in x.\n",
    "        x_bin_size(float): The size of dt bins, in the log scale.\n",
    "        y_bin_size(float): The size of dm bins.        \n",
    "    '''\n",
    "    \n",
    "    x_bins = np.int(dt_amp/x_bin_size) # compute number of x bins\n",
    "    y_bins = np.int(dm_amp/y_bin_size) # compute number of x bins\n",
    "\n",
    "    # plot\n",
    "    fig = plt.figure(figsize=(8,6))\n",
    "    _ = plt.hist2d(log_dts, dms, range=[[0, dt_amp], [-dm_amp, dm_amp]], bins=(x_bins, y_bins))\n",
    "    plt.colorbar()\n",
    "    \n",
    "    return _\n",
    "    \n",
    "def plotNormDmDt(denVal, filename=None):\n",
    "    '''Plot the grayscale DmDt density plot with columne-wise normalization.\n",
    "    \n",
    "    Args:\n",
    "        denVal(array): Density values computed from a colored density map.\n",
    "        \n",
    "    '''\n",
    "    \n",
    "    fig, ax = plt.subplots(1,1, figsize=(6,6)) # init figure\n",
    "    \n",
    "    # perform normalization\n",
    "    denVal = np.rot90(denVal[0]) # rotate to make x be dt\n",
    "    y_dim = denVal.shape[0] # number of rows\n",
    "    x_dim = denVal.shape[1] # number of columns\n",
    "\n",
    "    # sum over all columns and assign 0 to be 1\n",
    "    normTotal = np.sum(denVal, axis=0)\n",
    "    normTotal[normTotal == 0] = 1\n",
    "\n",
    "    # divide each bin values by normalization and reshape\n",
    "    normMask = np.repeat(normTotal, y_dim).reshape((x_dim, y_dim)).T\n",
    "    normd = np.divide(denVal, normMask)\n",
    "\n",
    "    plt.imshow(np.log(normd), cmap=plt.cm.Greys, extent=[0,3, -1.5, 1.5])\n",
    "    ax.tick_params(axis='both', which='major', labelsize=15, direction='in', length=5)\n",
    "    plt.xlabel('$log_{10}(\\Delta t\\,[days])$', fontsize=15)\n",
    "    plt.ylabel('$\\Delta m \\,(arb. unit)$', fontsize=15)\n",
    "    \n",
    "    if filename is not None:\n",
    "        plt.savefig(filename)"
   ]
  },
  {
   "cell_type": "markdown",
   "metadata": {},
   "source": [
    "### 1. Get Meta info from training data\n",
    "This section will help find the light curve IDs for objects of different classese (e.g., QSO vs. Star)"
   ]
  },
  {
   "cell_type": "code",
   "execution_count": 10,
   "metadata": {
    "scrolled": true
   },
   "outputs": [
    {
     "ename": "NameError",
     "evalue": "name 'meta_data' is not defined",
     "output_type": "error",
     "traceback": [
      "\u001b[0;31m\u001b[0m",
      "\u001b[0;31mNameError\u001b[0mTraceback (most recent call last)",
      "\u001b[0;32m<ipython-input-10-ff9590891fff>\u001b[0m in \u001b[0;36m<module>\u001b[0;34m\u001b[0m\n\u001b[1;32m      1\u001b[0m \u001b[0;31m## get IDs for variable stars\u001b[0m\u001b[0;34m\u001b[0m\u001b[0;34m\u001b[0m\u001b[0;34m\u001b[0m\u001b[0m\n\u001b[0;32m----> 2\u001b[0;31m \u001b[0mmeta\u001b[0m \u001b[0;34m=\u001b[0m \u001b[0mget_cat\u001b[0m\u001b[0;34m(\u001b[0m\u001b[0;34m's82Qso'\u001b[0m\u001b[0;34m)\u001b[0m\u001b[0;34m[\u001b[0m\u001b[0;34m[\u001b[0m\u001b[0;34m'train_id'\u001b[0m\u001b[0;34m,\u001b[0m \u001b[0;34m'class'\u001b[0m\u001b[0;34m,\u001b[0m \u001b[0;34m'sdss_lcN'\u001b[0m\u001b[0;34m]\u001b[0m\u001b[0;34m]\u001b[0m\u001b[0;34m\u001b[0m\u001b[0;34m\u001b[0m\u001b[0m\n\u001b[0m\u001b[1;32m      3\u001b[0m \u001b[0mmeta\u001b[0m\u001b[0;34m\u001b[0m\u001b[0;34m\u001b[0m\u001b[0m\n",
      "\u001b[0;32m~/workspace/Storage/mattcallaway/persistent/LSST_training/Script_NBs/utils.py\u001b[0m in \u001b[0;36mget_cat\u001b[0;34m(class_label)\u001b[0m\n\u001b[1;32m     79\u001b[0m         \u001b[0mclass_label\u001b[0m \u001b[0;34m(\u001b[0m\u001b[0mstr\u001b[0m\u001b[0;34m)\u001b[0m\u001b[0;34m:\u001b[0m \u001b[0mClaess\u001b[0m \u001b[0mlabel\u001b[0m\u001b[0;34m,\u001b[0m \u001b[0me\u001b[0m\u001b[0;34m.\u001b[0m\u001b[0mg\u001b[0m\u001b[0;34m.\u001b[0m\u001b[0;34m,\u001b[0m \u001b[0ms82Qso\u001b[0m\u001b[0;34m.\u001b[0m\u001b[0;34m\u001b[0m\u001b[0;34m\u001b[0m\u001b[0m\n\u001b[1;32m     80\u001b[0m     \"\"\"\n\u001b[0;32m---> 81\u001b[0;31m     \u001b[0;32massert\u001b[0m \u001b[0mclass_label\u001b[0m \u001b[0;32min\u001b[0m \u001b[0mmeta_data\u001b[0m\u001b[0;34m[\u001b[0m\u001b[0;34m\"classes\"\u001b[0m\u001b[0;34m]\u001b[0m\u001b[0;34m,\u001b[0m \u001b[0;34m\"Class not in database!\"\u001b[0m\u001b[0;34m\u001b[0m\u001b[0;34m\u001b[0m\u001b[0m\n\u001b[0m\u001b[1;32m     82\u001b[0m     \u001b[0;32mreturn\u001b[0m \u001b[0mtrain_cat\u001b[0m\u001b[0;34m[\u001b[0m\u001b[0mtrain_cat\u001b[0m\u001b[0;34m[\u001b[0m\u001b[0;34m\"class\"\u001b[0m\u001b[0;34m]\u001b[0m \u001b[0;34m==\u001b[0m \u001b[0mclass_label\u001b[0m\u001b[0;34m]\u001b[0m\u001b[0;34m.\u001b[0m\u001b[0mcopy\u001b[0m\u001b[0;34m(\u001b[0m\u001b[0;34m)\u001b[0m\u001b[0;34m\u001b[0m\u001b[0;34m\u001b[0m\u001b[0m\n\u001b[1;32m     83\u001b[0m \u001b[0;34m\u001b[0m\u001b[0m\n",
      "\u001b[0;31mNameError\u001b[0m: name 'meta_data' is not defined"
     ]
    }
   ],
   "source": [
    "## get IDs for variable stars\n",
    "meta = get_cat('s82Qso')[['train_id', 'class', 'sdss_lcN']]\n",
    "meta"
   ]
  },
  {
   "cell_type": "markdown",
   "metadata": {},
   "source": [
    "### 2. Variable Stars Density Maps\n",
    "#### 2.1. Single band \n",
    "After obtaining the light curves from the database, you can select which bandpass to plot, that is 'psfmag_u', 'psfmag_g', 'psfmag_r', 'psfmag_i', 'psfmag_z'. Normally, g, r and i bands have the largest number of high quality data. "
   ]
  },
  {
   "cell_type": "code",
   "execution_count": 11,
   "metadata": {},
   "outputs": [
    {
     "ename": "NameError",
     "evalue": "name 'valid_IDs' is not defined",
     "output_type": "error",
     "traceback": [
      "\u001b[0;31m\u001b[0m",
      "\u001b[0;31mNameError\u001b[0mTraceback (most recent call last)",
      "\u001b[0;32m<ipython-input-11-dccc1f2e7a6e>\u001b[0m in \u001b[0;36m<module>\u001b[0;34m\u001b[0m\n\u001b[1;32m      1\u001b[0m \u001b[0;31m# retrive LC by ID and select the data from only a single band\u001b[0m\u001b[0;34m\u001b[0m\u001b[0;34m\u001b[0m\u001b[0;34m\u001b[0m\u001b[0m\n\u001b[1;32m      2\u001b[0m \u001b[0mband\u001b[0m \u001b[0;34m=\u001b[0m \u001b[0;34m'i'\u001b[0m\u001b[0;34m\u001b[0m\u001b[0;34m\u001b[0m\u001b[0m\n\u001b[0;32m----> 3\u001b[0;31m \u001b[0mvarlc\u001b[0m \u001b[0;34m=\u001b[0m \u001b[0mget_sdss_lc\u001b[0m\u001b[0;34m(\u001b[0m\u001b[0;36m1000002\u001b[0m\u001b[0;34m)\u001b[0m\u001b[0;34m\u001b[0m\u001b[0;34m\u001b[0m\u001b[0m\n\u001b[0m\u001b[1;32m      4\u001b[0m \u001b[0mvarlc\u001b[0m \u001b[0;34m=\u001b[0m \u001b[0mvarlc\u001b[0m\u001b[0;34m.\u001b[0m\u001b[0mdropna\u001b[0m\u001b[0;34m(\u001b[0m\u001b[0msubset\u001b[0m\u001b[0;34m=\u001b[0m\u001b[0;34m[\u001b[0m\u001b[0;34mf'psfmag_{band}'\u001b[0m\u001b[0;34m]\u001b[0m\u001b[0;34m)\u001b[0m\u001b[0;34m\u001b[0m\u001b[0;34m\u001b[0m\u001b[0m\n",
      "\u001b[0;32m~/workspace/Storage/mattcallaway/persistent/LSST_training/Script_NBs/utils.py\u001b[0m in \u001b[0;36mget_sdss_lc\u001b[0;34m(train_id, clip, datetime)\u001b[0m\n\u001b[1;32m    163\u001b[0m     \"\"\"\n\u001b[1;32m    164\u001b[0m \u001b[0;34m\u001b[0m\u001b[0m\n\u001b[0;32m--> 165\u001b[0;31m     \u001b[0;32mif\u001b[0m \u001b[0mtrain_id\u001b[0m \u001b[0;32mnot\u001b[0m \u001b[0;32min\u001b[0m \u001b[0mvalid_IDs\u001b[0m\u001b[0;34m.\u001b[0m\u001b[0mtrain_id\u001b[0m\u001b[0;34m.\u001b[0m\u001b[0mvalues\u001b[0m\u001b[0;34m:\u001b[0m\u001b[0;34m\u001b[0m\u001b[0;34m\u001b[0m\u001b[0m\n\u001b[0m\u001b[1;32m    166\u001b[0m         \u001b[0;32mraise\u001b[0m \u001b[0mException\u001b[0m\u001b[0;34m(\u001b[0m\u001b[0;34m\"train_id provided is not valid!\"\u001b[0m\u001b[0;34m)\u001b[0m\u001b[0;34m\u001b[0m\u001b[0;34m\u001b[0m\u001b[0m\n\u001b[1;32m    167\u001b[0m \u001b[0;34m\u001b[0m\u001b[0m\n",
      "\u001b[0;31mNameError\u001b[0m: name 'valid_IDs' is not defined"
     ]
    }
   ],
   "source": [
    "# retrive LC by ID and select the data from only a single band\n",
    "band = 'i'\n",
    "varlc = get_sdss_lc(1000002)\n",
    "varlc = varlc.dropna(subset=[f'psfmag_{band}'])"
   ]
  },
  {
   "cell_type": "code",
   "execution_count": 12,
   "metadata": {},
   "outputs": [
    {
     "ename": "NameError",
     "evalue": "name 'varlc' is not defined",
     "output_type": "error",
     "traceback": [
      "\u001b[0;31m\u001b[0m",
      "\u001b[0;31mNameError\u001b[0mTraceback (most recent call last)",
      "\u001b[0;32m<ipython-input-12-d2da8066dc07>\u001b[0m in \u001b[0;36m<module>\u001b[0;34m\u001b[0m\n\u001b[1;32m      1\u001b[0m \u001b[0;31m# make colored density map\u001b[0m\u001b[0;34m\u001b[0m\u001b[0;34m\u001b[0m\u001b[0;34m\u001b[0m\u001b[0m\n\u001b[0;32m----> 2\u001b[0;31m \u001b[0mlog_dts\u001b[0m\u001b[0;34m,\u001b[0m \u001b[0mdms\u001b[0m\u001b[0;34m,\u001b[0m \u001b[0mdt_amp\u001b[0m\u001b[0;34m,\u001b[0m \u001b[0mdm_amp\u001b[0m \u001b[0;34m=\u001b[0m \u001b[0mdmdt\u001b[0m\u001b[0;34m(\u001b[0m\u001b[0mvarlc\u001b[0m\u001b[0;34m[\u001b[0m\u001b[0;34mf'mjd_{band}'\u001b[0m\u001b[0;34m]\u001b[0m\u001b[0;34m.\u001b[0m\u001b[0mvalues\u001b[0m\u001b[0;34m,\u001b[0m \u001b[0mvarlc\u001b[0m\u001b[0;34m[\u001b[0m\u001b[0;34mf'psfmag_{band}'\u001b[0m\u001b[0;34m]\u001b[0m\u001b[0;34m.\u001b[0m\u001b[0mvalues\u001b[0m\u001b[0;34m)\u001b[0m\u001b[0;34m\u001b[0m\u001b[0;34m\u001b[0m\u001b[0m\n\u001b[0m\u001b[1;32m      3\u001b[0m \u001b[0mdenVal\u001b[0m \u001b[0;34m=\u001b[0m \u001b[0mplotColorDmDt\u001b[0m\u001b[0;34m(\u001b[0m\u001b[0mlog_dts\u001b[0m\u001b[0;34m,\u001b[0m \u001b[0mdms\u001b[0m\u001b[0;34m,\u001b[0m \u001b[0mdt_amp\u001b[0m\u001b[0;34m,\u001b[0m \u001b[0mdm_amp\u001b[0m\u001b[0;34m,\u001b[0m \u001b[0mx_bin_size\u001b[0m\u001b[0;34m=\u001b[0m\u001b[0;36m0.05\u001b[0m\u001b[0;34m,\u001b[0m \u001b[0my_bin_size\u001b[0m\u001b[0;34m=\u001b[0m\u001b[0;36m0.01\u001b[0m\u001b[0;34m)\u001b[0m\u001b[0;34m\u001b[0m\u001b[0;34m\u001b[0m\u001b[0m\n\u001b[1;32m      4\u001b[0m \u001b[0mplotNormDmDt\u001b[0m\u001b[0;34m(\u001b[0m\u001b[0mdenVal\u001b[0m\u001b[0;34m)\u001b[0m\u001b[0;34m\u001b[0m\u001b[0;34m\u001b[0m\u001b[0m\n",
      "\u001b[0;31mNameError\u001b[0m: name 'varlc' is not defined"
     ]
    }
   ],
   "source": [
    "# make colored density map\n",
    "log_dts, dms, dt_amp, dm_amp = dmdt(varlc[f'mjd_{band}'].values, varlc[f'psfmag_{band}'].values)\n",
    "denVal = plotColorDmDt(log_dts, dms, dt_amp, dm_amp, x_bin_size=0.05, y_bin_size=0.01)\n",
    "plotNormDmDt(denVal)"
   ]
  },
  {
   "cell_type": "markdown",
   "metadata": {},
   "source": [
    "#### 2.2 Non-parametric LC merging?\n",
    "We could try to combine light curves from all five 'ugriz' bands to make a higher resolution density map. "
   ]
  },
  {
   "cell_type": "code",
   "execution_count": null,
   "metadata": {},
   "outputs": [],
   "source": [
    "varlc = varlc.dropna(subset=['psfmag_g', 'psfmag_u', 'psfmag_r', 'psfmag_i', 'psfmag_z']) # remove nan"
   ]
  },
  {
   "cell_type": "code",
   "execution_count": null,
   "metadata": {},
   "outputs": [],
   "source": [
    "g_log_dts, g_dms, g_dt_amp, g_dm_amp = dmdt(varlc.mjd_g.values, varlc.psfmag_g.values)\n",
    "r_log_dts, r_dms, r_dt_amp, r_dm_amp = dmdt(varlc.mjd_r.values, varlc.psfmag_r.values)\n",
    "i_log_dts, i_dms, i_dt_amp, i_dm_amp = dmdt(varlc.mjd_i.values, varlc.psfmag_i.values)"
   ]
  },
  {
   "cell_type": "code",
   "execution_count": null,
   "metadata": {},
   "outputs": [],
   "source": [
    "log_dts = np.append([g_log_dts, r_log_dts], i_log_dts)\n",
    "dms = np.append([g_dms, r_dms], i_dms)\n",
    "\n",
    "## catastrophic error could occur if one of the bands has spurious brighness change\n",
    "dt_amp = np.median([g_dt_amp, r_dt_amp, i_dt_amp])\n",
    "dm_amp = np.median([g_dm_amp, r_dm_amp, i_dt_amp])"
   ]
  },
  {
   "cell_type": "code",
   "execution_count": null,
   "metadata": {},
   "outputs": [],
   "source": [
    "denVal = plotColorDmDt(log_dts, dms, dt_amp, dm_amp, x_bin_size=0.05, y_bin_size=0.01)\n",
    "plotNormDmDt(denVal)"
   ]
  },
  {
   "cell_type": "markdown",
   "metadata": {},
   "source": [
    "### 3. Things to explore\n",
    "- Change the ID and see how the density map changes, this is how we might be able to classify different classes of stars.\n",
    "- Change the `x_bin_size` and `y_bin_size` argument for the `plotColorDmDt` function. These two parameters could end up being hyperparameters.\n",
    "- Many more..."
   ]
  },
  {
   "cell_type": "code",
   "execution_count": null,
   "metadata": {},
   "outputs": [],
   "source": [
    "help(plot_sdss_lc)"
   ]
  },
  {
   "cell_type": "code",
   "execution_count": null,
   "metadata": {},
   "outputs": [],
   "source": [
    "###NEW THINGS START HERE\n",
    "###Leaving everything above to avoid deleting necessary variables"
   ]
  },
  {
   "cell_type": "code",
   "execution_count": null,
   "metadata": {},
   "outputs": [],
   "source": [
    "denVal = plotColorDmDt(log_dts, dms, dt_amp, dm_amp, x_bin_size=0.05, y_bin_size=0.01)\n",
    "plotNormDmDt(denVal)"
   ]
  },
  {
   "cell_type": "code",
   "execution_count": null,
   "metadata": {},
   "outputs": [],
   "source": []
  }
 ],
 "metadata": {
  "kernelspec": {
   "display_name": "LSST_Train",
   "language": "python",
   "name": "lsst_train"
  },
  "language_info": {
   "codemirror_mode": {
    "name": "ipython",
    "version": 3
   },
   "file_extension": ".py",
   "mimetype": "text/x-python",
   "name": "python",
   "nbconvert_exporter": "python",
   "pygments_lexer": "ipython3",
   "version": "3.7.10"
  }
 },
 "nbformat": 4,
 "nbformat_minor": 4
}
